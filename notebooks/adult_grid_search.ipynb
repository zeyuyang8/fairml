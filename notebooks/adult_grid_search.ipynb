{
  "cells": [
    {
      "cell_type": "code",
      "execution_count": 1,
      "metadata": {
        "collapsed": false
      },
      "outputs": [],
      "source": [
        "%matplotlib inline"
      ]
    },
    {
      "attachments": {},
      "cell_type": "markdown",
      "metadata": {},
      "source": [
        "GridSearch with Census Data\n",
        "===========================\n"
      ]
    },
    {
      "attachments": {},
      "cell_type": "markdown",
      "metadata": {},
      "source": [
        "Census dataset. This dataset is a classification problem - given a range\n",
        "of data about 32,000 individuals, predict whether their annual income is\n",
        "above or below fifty thousand dollars per year.\n",
        "\n",
        "For the purposes of this notebook, we shall treat this as a loan\n",
        "decision problem. We will pretend that the label indicates whether or\n",
        "not each individual repaid a loan in the past. We will use the data to\n",
        "train a predictor to predict whether previously unseen individuals will\n",
        "repay a loan or not. The assumption is that the model predictions are\n",
        "used to decide whether an individual should be offered a loan.\n",
        "\n",
        "We will first train a fairness-unaware predictor and show that it leads\n",
        "to unfair decisions under a specific notion of fairness called\n",
        "*demographic parity*. We then mitigate unfairness by applying the\n",
        "`GridSearch`{.sourceCode} algorithm from the Fairlearn package.\n"
      ]
    },
    {
      "attachments": {},
      "cell_type": "markdown",
      "metadata": {},
      "source": [
        "Load and preprocess the data set\n",
        "================================\n",
        "\n",
        "We download the data set using [fetch\\_adult]{.title-ref} function in\n",
        "[fairlearn.datasets]{.title-ref}. We start by importing the various\n",
        "modules we\\'re going to use:\n"
      ]
    },
    {
      "cell_type": "code",
      "execution_count": 2,
      "metadata": {
        "collapsed": false
      },
      "outputs": [],
      "source": [
        "import pandas as pd\n",
        "from sklearn import metrics as skm\n",
        "from sklearn.datasets import fetch_openml\n",
        "from sklearn.linear_model import LogisticRegression\n",
        "from sklearn.model_selection import train_test_split\n",
        "from sklearn.preprocessing import LabelEncoder, StandardScaler\n",
        "\n",
        "from fairlearn.reductions import DemographicParity, ErrorRate, GridSearch\n",
        "from fairlearn.metrics import (\n",
        "    MetricFrame, selection_rate, count, plot_model_comparison, selection_rate_difference\n",
        ")"
      ]
    },
    {
      "attachments": {},
      "cell_type": "markdown",
      "metadata": {},
      "source": [
        "We can now load and inspect the data by using the\n",
        "[fairlearn.datasets]{.title-ref} module:\n"
      ]
    },
    {
      "cell_type": "code",
      "execution_count": 3,
      "metadata": {
        "collapsed": false
      },
      "outputs": [
        {
          "name": "stderr",
          "output_type": "stream",
          "text": [
            "/Users/zeyuyang/opt/anaconda3/envs/fairml/lib/python3.9/site-packages/sklearn/datasets/_openml.py:968: FutureWarning: The default value of `parser` will change from `'liac-arff'` to `'auto'` in 1.4. You can set `parser='auto'` to silence this warning. Therefore, an `ImportError` will be raised from 1.4 if the dataset is dense and pandas is not installed. Note that the pandas parser may return different data types. See the Notes Section in fetch_openml's API doc for details.\n",
            "  warn(\n"
          ]
        },
        {
          "data": {
            "text/html": [
              "<div>\n",
              "<style scoped>\n",
              "    .dataframe tbody tr th:only-of-type {\n",
              "        vertical-align: middle;\n",
              "    }\n",
              "\n",
              "    .dataframe tbody tr th {\n",
              "        vertical-align: top;\n",
              "    }\n",
              "\n",
              "    .dataframe thead th {\n",
              "        text-align: right;\n",
              "    }\n",
              "</style>\n",
              "<table border=\"1\" class=\"dataframe\">\n",
              "  <thead>\n",
              "    <tr style=\"text-align: right;\">\n",
              "      <th></th>\n",
              "      <th>age</th>\n",
              "      <th>workclass</th>\n",
              "      <th>fnlwgt</th>\n",
              "      <th>education</th>\n",
              "      <th>education-num</th>\n",
              "      <th>marital-status</th>\n",
              "      <th>occupation</th>\n",
              "      <th>relationship</th>\n",
              "      <th>race</th>\n",
              "      <th>sex</th>\n",
              "      <th>capital-gain</th>\n",
              "      <th>capital-loss</th>\n",
              "      <th>hours-per-week</th>\n",
              "      <th>native-country</th>\n",
              "    </tr>\n",
              "  </thead>\n",
              "  <tbody>\n",
              "    <tr>\n",
              "      <th>0</th>\n",
              "      <td>25.0</td>\n",
              "      <td>Private</td>\n",
              "      <td>226802.0</td>\n",
              "      <td>11th</td>\n",
              "      <td>7.0</td>\n",
              "      <td>Never-married</td>\n",
              "      <td>Machine-op-inspct</td>\n",
              "      <td>Own-child</td>\n",
              "      <td>Black</td>\n",
              "      <td>Male</td>\n",
              "      <td>0.0</td>\n",
              "      <td>0.0</td>\n",
              "      <td>40.0</td>\n",
              "      <td>United-States</td>\n",
              "    </tr>\n",
              "    <tr>\n",
              "      <th>1</th>\n",
              "      <td>38.0</td>\n",
              "      <td>Private</td>\n",
              "      <td>89814.0</td>\n",
              "      <td>HS-grad</td>\n",
              "      <td>9.0</td>\n",
              "      <td>Married-civ-spouse</td>\n",
              "      <td>Farming-fishing</td>\n",
              "      <td>Husband</td>\n",
              "      <td>White</td>\n",
              "      <td>Male</td>\n",
              "      <td>0.0</td>\n",
              "      <td>0.0</td>\n",
              "      <td>50.0</td>\n",
              "      <td>United-States</td>\n",
              "    </tr>\n",
              "    <tr>\n",
              "      <th>2</th>\n",
              "      <td>28.0</td>\n",
              "      <td>Local-gov</td>\n",
              "      <td>336951.0</td>\n",
              "      <td>Assoc-acdm</td>\n",
              "      <td>12.0</td>\n",
              "      <td>Married-civ-spouse</td>\n",
              "      <td>Protective-serv</td>\n",
              "      <td>Husband</td>\n",
              "      <td>White</td>\n",
              "      <td>Male</td>\n",
              "      <td>0.0</td>\n",
              "      <td>0.0</td>\n",
              "      <td>40.0</td>\n",
              "      <td>United-States</td>\n",
              "    </tr>\n",
              "    <tr>\n",
              "      <th>3</th>\n",
              "      <td>44.0</td>\n",
              "      <td>Private</td>\n",
              "      <td>160323.0</td>\n",
              "      <td>Some-college</td>\n",
              "      <td>10.0</td>\n",
              "      <td>Married-civ-spouse</td>\n",
              "      <td>Machine-op-inspct</td>\n",
              "      <td>Husband</td>\n",
              "      <td>Black</td>\n",
              "      <td>Male</td>\n",
              "      <td>7688.0</td>\n",
              "      <td>0.0</td>\n",
              "      <td>40.0</td>\n",
              "      <td>United-States</td>\n",
              "    </tr>\n",
              "    <tr>\n",
              "      <th>4</th>\n",
              "      <td>18.0</td>\n",
              "      <td>NaN</td>\n",
              "      <td>103497.0</td>\n",
              "      <td>Some-college</td>\n",
              "      <td>10.0</td>\n",
              "      <td>Never-married</td>\n",
              "      <td>NaN</td>\n",
              "      <td>Own-child</td>\n",
              "      <td>White</td>\n",
              "      <td>Female</td>\n",
              "      <td>0.0</td>\n",
              "      <td>0.0</td>\n",
              "      <td>30.0</td>\n",
              "      <td>United-States</td>\n",
              "    </tr>\n",
              "    <tr>\n",
              "      <th>...</th>\n",
              "      <td>...</td>\n",
              "      <td>...</td>\n",
              "      <td>...</td>\n",
              "      <td>...</td>\n",
              "      <td>...</td>\n",
              "      <td>...</td>\n",
              "      <td>...</td>\n",
              "      <td>...</td>\n",
              "      <td>...</td>\n",
              "      <td>...</td>\n",
              "      <td>...</td>\n",
              "      <td>...</td>\n",
              "      <td>...</td>\n",
              "      <td>...</td>\n",
              "    </tr>\n",
              "    <tr>\n",
              "      <th>48837</th>\n",
              "      <td>27.0</td>\n",
              "      <td>Private</td>\n",
              "      <td>257302.0</td>\n",
              "      <td>Assoc-acdm</td>\n",
              "      <td>12.0</td>\n",
              "      <td>Married-civ-spouse</td>\n",
              "      <td>Tech-support</td>\n",
              "      <td>Wife</td>\n",
              "      <td>White</td>\n",
              "      <td>Female</td>\n",
              "      <td>0.0</td>\n",
              "      <td>0.0</td>\n",
              "      <td>38.0</td>\n",
              "      <td>United-States</td>\n",
              "    </tr>\n",
              "    <tr>\n",
              "      <th>48838</th>\n",
              "      <td>40.0</td>\n",
              "      <td>Private</td>\n",
              "      <td>154374.0</td>\n",
              "      <td>HS-grad</td>\n",
              "      <td>9.0</td>\n",
              "      <td>Married-civ-spouse</td>\n",
              "      <td>Machine-op-inspct</td>\n",
              "      <td>Husband</td>\n",
              "      <td>White</td>\n",
              "      <td>Male</td>\n",
              "      <td>0.0</td>\n",
              "      <td>0.0</td>\n",
              "      <td>40.0</td>\n",
              "      <td>United-States</td>\n",
              "    </tr>\n",
              "    <tr>\n",
              "      <th>48839</th>\n",
              "      <td>58.0</td>\n",
              "      <td>Private</td>\n",
              "      <td>151910.0</td>\n",
              "      <td>HS-grad</td>\n",
              "      <td>9.0</td>\n",
              "      <td>Widowed</td>\n",
              "      <td>Adm-clerical</td>\n",
              "      <td>Unmarried</td>\n",
              "      <td>White</td>\n",
              "      <td>Female</td>\n",
              "      <td>0.0</td>\n",
              "      <td>0.0</td>\n",
              "      <td>40.0</td>\n",
              "      <td>United-States</td>\n",
              "    </tr>\n",
              "    <tr>\n",
              "      <th>48840</th>\n",
              "      <td>22.0</td>\n",
              "      <td>Private</td>\n",
              "      <td>201490.0</td>\n",
              "      <td>HS-grad</td>\n",
              "      <td>9.0</td>\n",
              "      <td>Never-married</td>\n",
              "      <td>Adm-clerical</td>\n",
              "      <td>Own-child</td>\n",
              "      <td>White</td>\n",
              "      <td>Male</td>\n",
              "      <td>0.0</td>\n",
              "      <td>0.0</td>\n",
              "      <td>20.0</td>\n",
              "      <td>United-States</td>\n",
              "    </tr>\n",
              "    <tr>\n",
              "      <th>48841</th>\n",
              "      <td>52.0</td>\n",
              "      <td>Self-emp-inc</td>\n",
              "      <td>287927.0</td>\n",
              "      <td>HS-grad</td>\n",
              "      <td>9.0</td>\n",
              "      <td>Married-civ-spouse</td>\n",
              "      <td>Exec-managerial</td>\n",
              "      <td>Wife</td>\n",
              "      <td>White</td>\n",
              "      <td>Female</td>\n",
              "      <td>15024.0</td>\n",
              "      <td>0.0</td>\n",
              "      <td>40.0</td>\n",
              "      <td>United-States</td>\n",
              "    </tr>\n",
              "  </tbody>\n",
              "</table>\n",
              "<p>48842 rows × 14 columns</p>\n",
              "</div>"
            ],
            "text/plain": [
              "        age     workclass    fnlwgt     education  education-num   \n",
              "0      25.0       Private  226802.0          11th            7.0  \\\n",
              "1      38.0       Private   89814.0       HS-grad            9.0   \n",
              "2      28.0     Local-gov  336951.0    Assoc-acdm           12.0   \n",
              "3      44.0       Private  160323.0  Some-college           10.0   \n",
              "4      18.0           NaN  103497.0  Some-college           10.0   \n",
              "...     ...           ...       ...           ...            ...   \n",
              "48837  27.0       Private  257302.0    Assoc-acdm           12.0   \n",
              "48838  40.0       Private  154374.0       HS-grad            9.0   \n",
              "48839  58.0       Private  151910.0       HS-grad            9.0   \n",
              "48840  22.0       Private  201490.0       HS-grad            9.0   \n",
              "48841  52.0  Self-emp-inc  287927.0       HS-grad            9.0   \n",
              "\n",
              "           marital-status         occupation relationship   race     sex   \n",
              "0           Never-married  Machine-op-inspct    Own-child  Black    Male  \\\n",
              "1      Married-civ-spouse    Farming-fishing      Husband  White    Male   \n",
              "2      Married-civ-spouse    Protective-serv      Husband  White    Male   \n",
              "3      Married-civ-spouse  Machine-op-inspct      Husband  Black    Male   \n",
              "4           Never-married                NaN    Own-child  White  Female   \n",
              "...                   ...                ...          ...    ...     ...   \n",
              "48837  Married-civ-spouse       Tech-support         Wife  White  Female   \n",
              "48838  Married-civ-spouse  Machine-op-inspct      Husband  White    Male   \n",
              "48839             Widowed       Adm-clerical    Unmarried  White  Female   \n",
              "48840       Never-married       Adm-clerical    Own-child  White    Male   \n",
              "48841  Married-civ-spouse    Exec-managerial         Wife  White  Female   \n",
              "\n",
              "       capital-gain  capital-loss  hours-per-week native-country  \n",
              "0               0.0           0.0            40.0  United-States  \n",
              "1               0.0           0.0            50.0  United-States  \n",
              "2               0.0           0.0            40.0  United-States  \n",
              "3            7688.0           0.0            40.0  United-States  \n",
              "4               0.0           0.0            30.0  United-States  \n",
              "...             ...           ...             ...            ...  \n",
              "48837           0.0           0.0            38.0  United-States  \n",
              "48838           0.0           0.0            40.0  United-States  \n",
              "48839           0.0           0.0            40.0  United-States  \n",
              "48840           0.0           0.0            20.0  United-States  \n",
              "48841       15024.0           0.0            40.0  United-States  \n",
              "\n",
              "[48842 rows x 14 columns]"
            ]
          },
          "execution_count": 3,
          "metadata": {},
          "output_type": "execute_result"
        }
      ],
      "source": [
        "data = fetch_openml(data_id=1590, as_frame=True)\n",
        "X_raw = data.data\n",
        "Y = (data.target == \">50K\") * 1\n",
        "X_raw"
      ]
    },
    {
      "attachments": {},
      "cell_type": "markdown",
      "metadata": {},
      "source": [
        "We are going to treat the sex of each individual as a sensitive feature\n",
        "(where 0 indicates female and 1 indicates male), and in this particular\n",
        "case we are going separate this feature out and drop it from the main\n",
        "data. We then perform some standard data preprocessing steps to convert\n",
        "the data into a format suitable for the ML algorithms\n"
      ]
    },
    {
      "cell_type": "code",
      "execution_count": 4,
      "metadata": {
        "collapsed": false
      },
      "outputs": [],
      "source": [
        "A = X_raw[\"sex\"]\n",
        "X = X_raw.drop(labels=[\"sex\"], axis=1)\n",
        "X = pd.get_dummies(X)\n",
        "\n",
        "sc = StandardScaler()\n",
        "X_scaled = sc.fit_transform(X)\n",
        "X_scaled = pd.DataFrame(X_scaled, columns=X.columns)\n",
        "\n",
        "le = LabelEncoder()\n",
        "Y = le.fit_transform(Y)"
      ]
    },
    {
      "attachments": {},
      "cell_type": "markdown",
      "metadata": {},
      "source": [
        "Finally, we split the data into training and test sets:\n"
      ]
    },
    {
      "cell_type": "code",
      "execution_count": 5,
      "metadata": {
        "collapsed": false
      },
      "outputs": [],
      "source": [
        "X_train, X_test, Y_train, Y_test, A_train, A_test = train_test_split(\n",
        "    X_scaled, Y, A, test_size=0.4, random_state=0, stratify=Y\n",
        ")\n",
        "\n",
        "# Work around indexing bug\n",
        "X_train = X_train.reset_index(drop=True)\n",
        "A_train = A_train.reset_index(drop=True)\n",
        "X_test = X_test.reset_index(drop=True)\n",
        "A_test = A_test.reset_index(drop=True)"
      ]
    },
    {
      "attachments": {},
      "cell_type": "markdown",
      "metadata": {},
      "source": [
        "Training a fairness-unaware predictor\n",
        "=====================================\n",
        "\n",
        "To show the effect of Fairlearn we will first train a standard ML\n",
        "predictor that does not incorporate fairness. For speed of\n",
        "demonstration, we use the simple\n",
        "`sklearn.linear_model.LogisticRegression`{.interpreted-text\n",
        "role=\"class\"} class:\n"
      ]
    },
    {
      "cell_type": "code",
      "execution_count": 6,
      "metadata": {
        "collapsed": false
      },
      "outputs": [
        {
          "data": {
            "text/html": [
              "<style>#sk-container-id-1 {color: black;background-color: white;}#sk-container-id-1 pre{padding: 0;}#sk-container-id-1 div.sk-toggleable {background-color: white;}#sk-container-id-1 label.sk-toggleable__label {cursor: pointer;display: block;width: 100%;margin-bottom: 0;padding: 0.3em;box-sizing: border-box;text-align: center;}#sk-container-id-1 label.sk-toggleable__label-arrow:before {content: \"▸\";float: left;margin-right: 0.25em;color: #696969;}#sk-container-id-1 label.sk-toggleable__label-arrow:hover:before {color: black;}#sk-container-id-1 div.sk-estimator:hover label.sk-toggleable__label-arrow:before {color: black;}#sk-container-id-1 div.sk-toggleable__content {max-height: 0;max-width: 0;overflow: hidden;text-align: left;background-color: #f0f8ff;}#sk-container-id-1 div.sk-toggleable__content pre {margin: 0.2em;color: black;border-radius: 0.25em;background-color: #f0f8ff;}#sk-container-id-1 input.sk-toggleable__control:checked~div.sk-toggleable__content {max-height: 200px;max-width: 100%;overflow: auto;}#sk-container-id-1 input.sk-toggleable__control:checked~label.sk-toggleable__label-arrow:before {content: \"▾\";}#sk-container-id-1 div.sk-estimator input.sk-toggleable__control:checked~label.sk-toggleable__label {background-color: #d4ebff;}#sk-container-id-1 div.sk-label input.sk-toggleable__control:checked~label.sk-toggleable__label {background-color: #d4ebff;}#sk-container-id-1 input.sk-hidden--visually {border: 0;clip: rect(1px 1px 1px 1px);clip: rect(1px, 1px, 1px, 1px);height: 1px;margin: -1px;overflow: hidden;padding: 0;position: absolute;width: 1px;}#sk-container-id-1 div.sk-estimator {font-family: monospace;background-color: #f0f8ff;border: 1px dotted black;border-radius: 0.25em;box-sizing: border-box;margin-bottom: 0.5em;}#sk-container-id-1 div.sk-estimator:hover {background-color: #d4ebff;}#sk-container-id-1 div.sk-parallel-item::after {content: \"\";width: 100%;border-bottom: 1px solid gray;flex-grow: 1;}#sk-container-id-1 div.sk-label:hover label.sk-toggleable__label {background-color: #d4ebff;}#sk-container-id-1 div.sk-serial::before {content: \"\";position: absolute;border-left: 1px solid gray;box-sizing: border-box;top: 0;bottom: 0;left: 50%;z-index: 0;}#sk-container-id-1 div.sk-serial {display: flex;flex-direction: column;align-items: center;background-color: white;padding-right: 0.2em;padding-left: 0.2em;position: relative;}#sk-container-id-1 div.sk-item {position: relative;z-index: 1;}#sk-container-id-1 div.sk-parallel {display: flex;align-items: stretch;justify-content: center;background-color: white;position: relative;}#sk-container-id-1 div.sk-item::before, #sk-container-id-1 div.sk-parallel-item::before {content: \"\";position: absolute;border-left: 1px solid gray;box-sizing: border-box;top: 0;bottom: 0;left: 50%;z-index: -1;}#sk-container-id-1 div.sk-parallel-item {display: flex;flex-direction: column;z-index: 1;position: relative;background-color: white;}#sk-container-id-1 div.sk-parallel-item:first-child::after {align-self: flex-end;width: 50%;}#sk-container-id-1 div.sk-parallel-item:last-child::after {align-self: flex-start;width: 50%;}#sk-container-id-1 div.sk-parallel-item:only-child::after {width: 0;}#sk-container-id-1 div.sk-dashed-wrapped {border: 1px dashed gray;margin: 0 0.4em 0.5em 0.4em;box-sizing: border-box;padding-bottom: 0.4em;background-color: white;}#sk-container-id-1 div.sk-label label {font-family: monospace;font-weight: bold;display: inline-block;line-height: 1.2em;}#sk-container-id-1 div.sk-label-container {text-align: center;}#sk-container-id-1 div.sk-container {/* jupyter's `normalize.less` sets `[hidden] { display: none; }` but bootstrap.min.css set `[hidden] { display: none !important; }` so we also need the `!important` here to be able to override the default hidden behavior on the sphinx rendered scikit-learn.org. See: https://github.com/scikit-learn/scikit-learn/issues/21755 */display: inline-block !important;position: relative;}#sk-container-id-1 div.sk-text-repr-fallback {display: none;}</style><div id=\"sk-container-id-1\" class=\"sk-top-container\"><div class=\"sk-text-repr-fallback\"><pre>LogisticRegression(solver=&#x27;liblinear&#x27;)</pre><b>In a Jupyter environment, please rerun this cell to show the HTML representation or trust the notebook. <br />On GitHub, the HTML representation is unable to render, please try loading this page with nbviewer.org.</b></div><div class=\"sk-container\" hidden><div class=\"sk-item\"><div class=\"sk-estimator sk-toggleable\"><input class=\"sk-toggleable__control sk-hidden--visually\" id=\"sk-estimator-id-1\" type=\"checkbox\" checked><label for=\"sk-estimator-id-1\" class=\"sk-toggleable__label sk-toggleable__label-arrow\">LogisticRegression</label><div class=\"sk-toggleable__content\"><pre>LogisticRegression(solver=&#x27;liblinear&#x27;)</pre></div></div></div></div></div>"
            ],
            "text/plain": [
              "LogisticRegression(solver='liblinear')"
            ]
          },
          "execution_count": 6,
          "metadata": {},
          "output_type": "execute_result"
        }
      ],
      "source": [
        "unmitigated_predictor = LogisticRegression(solver=\"liblinear\", fit_intercept=True)\n",
        "\n",
        "unmitigated_predictor.fit(X_train, Y_train)"
      ]
    },
    {
      "attachments": {},
      "cell_type": "markdown",
      "metadata": {},
      "source": [
        "We can start to assess the predictor\\'s fairness using the\n",
        "\\`MetricFrame\\`:\n"
      ]
    },
    {
      "cell_type": "code",
      "execution_count": 7,
      "metadata": {
        "collapsed": false
      },
      "outputs": [
        {
          "name": "stdout",
          "output_type": "stream",
          "text": [
            "accuracy              0.851820\n",
            "selection_rate        0.194707\n",
            "count             19537.000000\n",
            "dtype: float64\n",
            "        accuracy  selection_rate    count\n",
            "sex                                      \n",
            "Female  0.925960        0.076794   6537.0\n",
            "Male    0.814538        0.254000  13000.0\n"
          ]
        },
        {
          "data": {
            "text/plain": [
              "array([[<Axes: title={'center': 'accuracy'}, xlabel='sex'>],\n",
              "       [<Axes: title={'center': 'selection_rate'}, xlabel='sex'>],\n",
              "       [<Axes: title={'center': 'count'}, xlabel='sex'>]], dtype=object)"
            ]
          },
          "execution_count": 7,
          "metadata": {},
          "output_type": "execute_result"
        },
        {
          "data": {
            "image/png": "[encoded data removed]",
            "text/plain": [
              "<Figure size 1200x800 with 3 Axes>"
            ]
          },
          "metadata": {},
          "output_type": "display_data"
        }
      ],
      "source": [
        "metric_frame = MetricFrame(\n",
        "    metrics={\n",
        "        \"accuracy\": skm.accuracy_score,\n",
        "        \"selection_rate\": selection_rate,\n",
        "        \"count\": count,\n",
        "    },\n",
        "    sensitive_features=A_test,\n",
        "    y_true=Y_test,\n",
        "    y_pred=unmitigated_predictor.predict(X_test),\n",
        ")\n",
        "print(metric_frame.overall)\n",
        "print(metric_frame.by_group)\n",
        "metric_frame.by_group.plot.bar(\n",
        "    subplots=True,\n",
        "    layout=[3, 1],\n",
        "    legend=False,\n",
        "    figsize=[12, 8],\n",
        "    title=\"Accuracy and selection rate by group\",\n",
        ")"
      ]
    },
    {
      "attachments": {},
      "cell_type": "markdown",
      "metadata": {},
      "source": [
        "Looking at the disparity in accuracy, we see that males have an error\n",
        "about three times greater than the females. More interesting is the\n",
        "disparity in opportunity - males are offered loans at three times the\n",
        "rate of females.\n",
        "\n",
        "Despite the fact that we removed the feature from the training data, our\n",
        "predictor still discriminates based on sex. This demonstrates that\n",
        "simply ignoring a sensitive feature when fitting a predictor rarely\n",
        "eliminates unfairness. There will generally be enough other features\n",
        "correlated with the removed feature to lead to disparate impact.\n"
      ]
    },
    {
      "attachments": {},
      "cell_type": "markdown",
      "metadata": {},
      "source": [
        "Mitigation with GridSearch\n",
        "==========================\n",
        "\n",
        "The `fairlearn.reductions.GridSearch`{.interpreted-text role=\"class\"}\n",
        "class implements a simplified version of the exponentiated gradient\n",
        "reduction of [Agarwal et al. 2018](https://arxiv.org/abs/1803.02453).\n",
        "The user supplies a standard ML estimator, which is treated as a\n",
        "blackbox. [GridSearch]{.title-ref} works by generating a sequence of\n",
        "relabellings and reweightings, and trains a predictor for each.\n",
        "\n",
        "For this example, we specify demographic parity (on the sensitive\n",
        "feature of sex) as the fairness metric. Demographic parity requires that\n",
        "individuals are offered the opportunity (are approved for a loan in this\n",
        "example) independent of membership in the sensitive class (i.e., females\n",
        "and males should be offered loans at the same rate). We are using this\n",
        "metric for the sake of simplicity; in general, the appropriate fairness\n",
        "metric will not be obvious.\n"
      ]
    },
    {
      "cell_type": "code",
      "execution_count": 8,
      "metadata": {
        "collapsed": false
      },
      "outputs": [],
      "source": [
        "sweep = GridSearch(\n",
        "    LogisticRegression(solver=\"liblinear\", fit_intercept=True),\n",
        "    constraints=DemographicParity(),\n",
        "    grid_size=31,\n",
        ")"
      ]
    },
    {
      "attachments": {},
      "cell_type": "markdown",
      "metadata": {},
      "source": [
        "Our algorithms provide `fit()`{.sourceCode} and `predict()`{.sourceCode}\n",
        "methods, so they behave in a similar manner to other ML packages in\n",
        "Python. We do however have to specify two extra arguments to\n",
        "`fit()`{.sourceCode} - the column of sensitive feature labels, and also\n",
        "the number of predictors to generate in our sweep.\n",
        "\n",
        "After `fit()`{.sourceCode} completes, we extract the full set of\n",
        "predictors from the `fairlearn.reductions.GridSearch`{.interpreted-text\n",
        "role=\"class\"} object.\n"
      ]
    },
    {
      "cell_type": "code",
      "execution_count": 9,
      "metadata": {
        "collapsed": false
      },
      "outputs": [],
      "source": [
        "sweep.fit(X_train, Y_train, sensitive_features=A_train)\n",
        "\n",
        "predictors = sweep.predictors_"
      ]
    },
    {
      "attachments": {},
      "cell_type": "markdown",
      "metadata": {},
      "source": [
        "We could plot performance and fairness metrics of these predictors now.\n",
        "However, the plot would be somewhat confusing due to the number of\n",
        "models. In this case, we are going to remove the predictors which are\n",
        "dominated in the error-disparity space by others from the sweep (note\n",
        "that the disparity will only be calculated for the sensitive feature;\n",
        "other potentially sensitive features will not be mitigated). In general,\n",
        "one might not want to do this, since there may be other considerations\n",
        "beyond the strict optimization of error and disparity (of the given\n",
        "sensitive feature).\n"
      ]
    },
    {
      "cell_type": "code",
      "execution_count": 10,
      "metadata": {
        "collapsed": false
      },
      "outputs": [],
      "source": [
        "errors, disparities = [], []\n",
        "for m in predictors:\n",
        "\n",
        "    def classifier(X):\n",
        "        return m.predict(X)\n",
        "\n",
        "    error = ErrorRate()\n",
        "    error.load_data(X_train, pd.Series(Y_train), sensitive_features=A_train)\n",
        "    disparity = DemographicParity()\n",
        "    disparity.load_data(X_train, pd.Series(Y_train), sensitive_features=A_train)\n",
        "\n",
        "    errors.append(error.gamma(classifier)[0])\n",
        "    disparities.append(disparity.gamma(classifier).max())\n",
        "\n",
        "all_results = pd.DataFrame(\n",
        "    {\"predictor\": predictors, \"error\": errors, \"disparity\": disparities}\n",
        ")\n",
        "\n",
        "non_dominated = []\n",
        "for row in all_results.itertuples():\n",
        "    errors_for_lower_or_eq_disparity = all_results[\"error\"][\n",
        "        all_results[\"disparity\"] <= row.disparity\n",
        "    ]\n",
        "    if row.error <= errors_for_lower_or_eq_disparity.min():\n",
        "        non_dominated.append(row.predictor)"
      ]
    },
    {
      "attachments": {},
      "cell_type": "markdown",
      "metadata": {},
      "source": [
        "Finally, we can evaluate the dominant models along with the unmitigated\n",
        "model.\n"
      ]
    },
    {
      "cell_type": "code",
      "execution_count": 11,
      "metadata": {
        "collapsed": false
      },
      "outputs": [
        {
          "data": {
            "text/plain": [
              "Text(0, 0.5, 'selection rate difference')"
            ]
          },
          "execution_count": 11,
          "metadata": {},
          "output_type": "execute_result"
        },
        {
          "data": {
            "image/png": "[encoded data removed]",
            "text/plain": [
              "<Figure size 640x480 with 1 Axes>"
            ]
          },
          "metadata": {},
          "output_type": "display_data"
        }
      ],
      "source": [
        "predictions = {\"unmitigated\": unmitigated_predictor.predict(X_test)}\n",
        "metric_frames = {\"unmitigated\": metric_frame}\n",
        "for i in range(len(non_dominated)):\n",
        "    key = \"dominant_model_{0}\".format(i)\n",
        "    predictions[key] = non_dominated[i].predict(X_test)\n",
        "\n",
        "    metric_frames[key] = MetricFrame(\n",
        "        metrics={\n",
        "            \"accuracy\": skm.accuracy_score,\n",
        "            \"selection_rate\": selection_rate,\n",
        "            \"count\": count,\n",
        "        },\n",
        "        sensitive_features=A_test,\n",
        "        y_true=Y_test,\n",
        "        y_pred=predictions[key],\n",
        "    )\n",
        "\n",
        "import matplotlib.pyplot as plt\n",
        "\n",
        "x = [metric_frame.overall[\"accuracy\"] for metric_frame in metric_frames.values()]\n",
        "y = [\n",
        "    metric_frame.difference()[\"selection_rate\"]\n",
        "    for metric_frame in metric_frames.values()\n",
        "]\n",
        "keys = list(metric_frames.keys())\n",
        "plt.scatter(x, y)\n",
        "for i in range(len(x)):\n",
        "    plt.annotate(keys[i], (x[i] + 0.0003, y[i]))\n",
        "plt.xlabel(\"accuracy\")\n",
        "plt.ylabel(\"selection rate difference\")"
      ]
    },
    {
      "attachments": {},
      "cell_type": "markdown",
      "metadata": {},
      "source": [
        "We see a Pareto front forming - the set of predictors which represent\n",
        "optimal tradeoffs between accuracy and disparity in predictions. In the\n",
        "ideal case, we would have a predictor at (1,0) - perfectly accurate and\n",
        "without any unfairness under demographic parity (with respect to the\n",
        "sensitive feature \\\"sex\\\"). The Pareto front represents the closest we\n",
        "can come to this ideal based on our data and choice of estimator. Note\n",
        "the range of the axes - the disparity axis covers more values than the\n",
        "accuracy, so we can reduce disparity substantially for a small loss in\n",
        "accuracy.\n",
        "\n",
        "In a real example, we would pick the model which represented the best\n",
        "trade-off between accuracy and disparity given the relevant business\n",
        "constraints.\n",
        "\n",
        "\\%% \\[markdown\\] Comparing models easily\n",
        "\\-\\-\\-\\-\\-\\-\\-\\-\\-\\-\\-\\-\\-\\-\\-\\-\\-\\-\\-\\-\\-\\--Fairlearn also provides\n",
        "functionality to compare models much more easily.\n"
      ]
    },
    {
      "cell_type": "code",
      "execution_count": 12,
      "metadata": {
        "collapsed": false
      },
      "outputs": [
        {
          "name": "stderr",
          "output_type": "stream",
          "text": [
            "No matplotlib.Axes object was provided to draw on, so we create a new one\n"
          ]
        },
        {
          "data": {
            "image/png": "[encoded data removed]",
            "text/plain": [
              "<Figure size 640x480 with 1 Axes>"
            ]
          },
          "metadata": {},
          "output_type": "display_data"
        },
        {
          "data": {
            "text/plain": [
              "<Axes: xlabel='accuracy score', ylabel='selection rate difference'>"
            ]
          },
          "execution_count": 12,
          "metadata": {},
          "output_type": "execute_result"
        }
      ],
      "source": [
        "# Plot model comparison\n",
        "plot_model_comparison(\n",
        "    x_axis_metric=skm.accuracy_score,\n",
        "    y_axis_metric=selection_rate_difference,\n",
        "    y_true=Y_test,\n",
        "    y_preds=predictions,\n",
        "    sensitive_features=A_test,\n",
        "    point_labels=True,\n",
        "    show_plot=True\n",
        ")\n",
        "# End model comparison"
      ]
    }
  ],
  "metadata": {
    "kernelspec": {
      "display_name": "Python 3",
      "language": "python",
      "name": "python3"
    },
    "language_info": {
      "codemirror_mode": {
        "name": "ipython",
        "version": 3
      },
      "file_extension": ".py",
      "mimetype": "text/x-python",
      "name": "python",
      "nbconvert_exporter": "python",
      "pygments_lexer": "ipython3",
      "version": "3.9.16"
    }
  },
  "nbformat": 4,
  "nbformat_minor": 0
}
