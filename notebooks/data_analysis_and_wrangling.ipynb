{
 "cells": [
  {
   "attachments": {},
   "cell_type": "markdown",
   "metadata": {},
   "source": [
    "# Data analysis and wrangling"
   ]
  },
  {
   "attachments": {},
   "cell_type": "markdown",
   "metadata": {},
   "source": [
    "## Dependencies"
   ]
  },
  {
   "cell_type": "code",
   "execution_count": 12,
   "metadata": {},
   "outputs": [],
   "source": [
    "\"\"\"\n",
    "Fetch and analysis the following datasets:\n",
    "    - MIMIC-3 from the server in COMP-WELL lab\n",
    "    - Adult Census dataset from Fairlearn\n",
    "    - Intersectional bias assessment for depression prediction from OpenML\n",
    "\n",
    "docs for fetch_openml: https://scikit-learn.org/stable/modules/generated/sklearn.datasets.fetch_openml.html \n",
    "\"\"\"\n",
    "\n",
    "from sklearn.datasets import fetch_openml\n",
    "import pandas as pd"
   ]
  },
  {
   "cell_type": "code",
   "execution_count": 13,
   "metadata": {},
   "outputs": [],
   "source": [
    "DATA = {}\n",
    "ACS_INCOME = \"ACSincome\"\n",
    "IBADepression = \"IBADepression\""
   ]
  },
  {
   "attachments": {},
   "cell_type": "markdown",
   "metadata": {},
   "source": [
    "## Fetching data from OpenML"
   ]
  },
  {
   "cell_type": "code",
   "execution_count": 14,
   "metadata": {},
   "outputs": [],
   "source": [
    "def fetch_openml_dataset(choice):\n",
    "    \"\"\"Load dataset according to the choice.\n",
    "    \n",
    "    Args:\n",
    "        choice (str): dataset name\n",
    "    \n",
    "    Returns:\n",
    "        X (pd.Dataframe): features\n",
    "        y_true (pd.Series): true labels\n",
    "    \"\"\"\n",
    "    if choice == ACS_INCOME:\n",
    "        data = fetch_openml(data_id=43141, as_frame=True, parser='auto')\n",
    "    elif choice == IBADepression:\n",
    "        data = fetch_openml(data_id=45040, as_frame=True, parser='auto')\n",
    "\n",
    "    X = pd.get_dummies(data.data)\n",
    "    y_true = data.target\n",
    "    return X, y_true"
   ]
  },
  {
   "cell_type": "code",
   "execution_count": 15,
   "metadata": {},
   "outputs": [],
   "source": [
    "def test_fetch_openml_dataset():\n",
    "    \"\"\"Test fetch_openml_dataset function.\"\"\"\n",
    "    DATA[ACS_INCOME] = fetch_openml_dataset(ACS_INCOME)\n",
    "    DATA[IBADepression] = fetch_openml_dataset(IBADepression)\n",
    "\n",
    "\n",
    "test_fetch_openml_dataset()"
   ]
  },
  {
   "attachments": {},
   "cell_type": "markdown",
   "metadata": {},
   "source": [
    "## Evaluating fairness-related metrics"
   ]
  },
  {
   "cell_type": "code",
   "execution_count": null,
   "metadata": {},
   "outputs": [],
   "source": []
  }
 ],
 "metadata": {
  "kernelspec": {
   "display_name": "fairml",
   "language": "python",
   "name": "python3"
  },
  "language_info": {
   "codemirror_mode": {
    "name": "ipython",
    "version": 3
   },
   "file_extension": ".py",
   "mimetype": "text/x-python",
   "name": "python",
   "nbconvert_exporter": "python",
   "pygments_lexer": "ipython3",
   "version": "3.9.16"
  },
  "orig_nbformat": 4
 },
 "nbformat": 4,
 "nbformat_minor": 2
}
