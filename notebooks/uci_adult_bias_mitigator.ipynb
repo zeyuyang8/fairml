{
 "cells": [
  {
   "cell_type": "code",
   "execution_count": 1,
   "metadata": {},
   "outputs": [],
   "source": [
    "\"\"\"\n",
    "UCI adult dataset with Fairlearn mitigator.\n",
    "\"\"\"\n",
    "\n",
    "import sys\n",
    "\n",
    "sys.path.append('../')\n",
    "\n",
    "from src.data.datasets import fetch_openml_dataset\n",
    "from src.models.fairlearn_mitigators import ExpGradMitigator\n",
    "from fairlearn.reductions import DemographicParity\n",
    "from src.models.sklearn_estimators import SklearnClfs\n",
    "from sklearn.linear_model import LogisticRegression\n",
    "from src.eval.fairness import eval_binary_clf_fairness"
   ]
  },
  {
   "cell_type": "code",
   "execution_count": 2,
   "metadata": {},
   "outputs": [],
   "source": [
    "METRICS = {}"
   ]
  },
  {
   "cell_type": "code",
   "execution_count": 3,
   "metadata": {},
   "outputs": [],
   "source": [
    "def uci_adult_exp_grad_pipline(sensitive, clfs_dict, constraint=DemographicParity()):\n",
    "    \"\"\"Run the pipeline for UCI adult dataset.\n",
    "\n",
    "    Args:\n",
    "        sensitive (str): sensitive feature\n",
    "        clfs_dict (dict): dictionary of classifiers\n",
    "        mitigator_name (str): name of the mitigator\n",
    "        seed (int): random seed\n",
    "\n",
    "    Returns:\n",
    "        dict: dictionary of fairness metrics\n",
    "    \"\"\"\n",
    "    # Fetch dataset\n",
    "    uci_adult = fetch_openml_dataset(\"UCIadult\", sensitive)\n",
    "    X = uci_adult[\"features\"]\n",
    "    y_true = uci_adult[\"labels\"]\n",
    "    sensitive_features = uci_adult[\"sensitive\"]\n",
    "\n",
    "    # Fit classifiers\n",
    "    print(\"Fitting classifiers...\")\n",
    "    clfs = SklearnClfs(clfs_dict)\n",
    "    clfs.fit_estimator_all(X, y_true)\n",
    "    \n",
    "    # Fit mitigator\n",
    "    print(\"Fitting mitigators...\")\n",
    "    mitigators = ExpGradMitigator(clfs_dict, constraint)\n",
    "    mitigators.fit_estimator_all(X, y_true, sensitive_features=sensitive_features)\n",
    "\n",
    "    # Predict\n",
    "    y_pred = clfs.predict_all(X)\n",
    "    y_pred_mitigated = mitigators.predict_all(X)\n",
    "    \n",
    "    # Evaluate fairness\n",
    "    print(\"Evaluating fairness...\")\n",
    "    fairness = {}\n",
    "    fairness_mitigated = {}\n",
    "    for type in y_pred:\n",
    "        fairness[type] = eval_binary_clf_fairness(y_true, y_pred[type], sensitive_features)\n",
    "        fairness_mitigated[type] = eval_binary_clf_fairness(y_true, y_pred_mitigated[type], sensitive_features)\n",
    "\n",
    "    return fairness, fairness_mitigated"
   ]
  },
  {
   "cell_type": "code",
   "execution_count": 4,
   "metadata": {},
   "outputs": [
    {
     "name": "stdout",
     "output_type": "stream",
     "text": [
      "Fitting classifiers...\n",
      "Fitting mitigators...\n",
      "Evaluating fairness...\n"
     ]
    }
   ],
   "source": [
    "def test_uci_adult_exp_grad_pipline():\n",
    "    \"\"\"Test uci_adult_exp_grad_pipline function.\"\"\"\n",
    "    clfs_dict = {\n",
    "        \"Logistic regression\": LogisticRegression(max_iter=1000)\n",
    "    }\n",
    "    logreg_fair, logreg_expgrad_fair = uci_adult_exp_grad_pipline(\"sex\", clfs_dict)\n",
    "    METRICS[\"raw\"] = logreg_fair\n",
    "    METRICS[\"expgrad\"] = logreg_expgrad_fair\n",
    "\n",
    "    stats_list = [\"accuracy\", \"selection rate\", \"true positive rate\", \"false positive rate\"]\n",
    "    print(\"Logistic Regression - Raw:\")\n",
    "    print(METRICS[\"raw\"][\"Logistic regression\"].by_group[stats_list])\n",
    "    print()\n",
    "\n",
    "    print(\"Logistic Regression - Exponentiated Gradient:\")\n",
    "    print(METRICS[\"expgrad\"][\"Logistic regression\"].by_group[stats_list])\n",
    "\n",
    "test_uci_adult_exp_grad_pipline()"
   ]
  },
  {
   "cell_type": "code",
   "execution_count": null,
   "metadata": {},
   "outputs": [],
   "source": []
  }
 ],
 "metadata": {
  "kernelspec": {
   "display_name": "fairml",
   "language": "python",
   "name": "python3"
  },
  "language_info": {
   "codemirror_mode": {
    "name": "ipython",
    "version": 3
   },
   "file_extension": ".py",
   "mimetype": "text/x-python",
   "name": "python",
   "nbconvert_exporter": "python",
   "pygments_lexer": "ipython3",
   "version": "3.9.16"
  },
  "orig_nbformat": 4
 },
 "nbformat": 4,
 "nbformat_minor": 2
}
